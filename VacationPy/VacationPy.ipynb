{
 "cells": [
  {
   "cell_type": "markdown",
   "metadata": {},
   "source": [
    "# VacationPy\n",
    "----\n",
    "\n",
    "#### Note\n",
    "* Instructions have been included for each segment. You do not have to follow them exactly, but they are included to help you think through the steps."
   ]
  },
  {
   "cell_type": "code",
   "execution_count": 1,
   "metadata": {},
   "outputs": [],
   "source": [
    "# Dependencies and Setup\n",
    "!pip instal gmaps\n",
    "import matplotlib.pyplot as plt\n",
    "import pandas as pd\n",
    "import numpy as np\n",
    "import requests\n",
    "import gmaps\n",
    "import os\n",
    "\n",
    "# Import API key\n",
    "from api_keys import g_key"
   ]
  },
  {
   "cell_type": "markdown",
   "metadata": {},
   "source": [
    "### Store Part I results into DataFrame\n",
    "* Load the csv exported in Part I to a DataFrame"
   ]
  },
  {
   "cell_type": "code",
   "execution_count": 2,
   "metadata": {},
   "outputs": [
    {
     "data": {
      "text/html": [
       "<div>\n",
       "<style scoped>\n",
       "    .dataframe tbody tr th:only-of-type {\n",
       "        vertical-align: middle;\n",
       "    }\n",
       "\n",
       "    .dataframe tbody tr th {\n",
       "        vertical-align: top;\n",
       "    }\n",
       "\n",
       "    .dataframe thead th {\n",
       "        text-align: right;\n",
       "    }\n",
       "</style>\n",
       "<table border=\"1\" class=\"dataframe\">\n",
       "  <thead>\n",
       "    <tr style=\"text-align: right;\">\n",
       "      <th></th>\n",
       "      <th>City</th>\n",
       "      <th>Country</th>\n",
       "      <th>Lat</th>\n",
       "      <th>Lng</th>\n",
       "      <th>Cloudiness</th>\n",
       "      <th>Humidity</th>\n",
       "      <th>Max Temp</th>\n",
       "      <th>Wind Speed</th>\n",
       "    </tr>\n",
       "  </thead>\n",
       "  <tbody>\n",
       "    <tr>\n",
       "      <th>0</th>\n",
       "      <td>Tuatapere</td>\n",
       "      <td>NZ</td>\n",
       "      <td>-46.13</td>\n",
       "      <td>167.68</td>\n",
       "      <td>18</td>\n",
       "      <td>75</td>\n",
       "      <td>55.00</td>\n",
       "      <td>4.00</td>\n",
       "    </tr>\n",
       "    <tr>\n",
       "      <th>1</th>\n",
       "      <td>Belmonte</td>\n",
       "      <td>BR</td>\n",
       "      <td>-15.86</td>\n",
       "      <td>-38.88</td>\n",
       "      <td>40</td>\n",
       "      <td>78</td>\n",
       "      <td>80.60</td>\n",
       "      <td>9.17</td>\n",
       "    </tr>\n",
       "    <tr>\n",
       "      <th>2</th>\n",
       "      <td>Kalakamati</td>\n",
       "      <td>BW</td>\n",
       "      <td>-20.59</td>\n",
       "      <td>27.31</td>\n",
       "      <td>75</td>\n",
       "      <td>75</td>\n",
       "      <td>64.42</td>\n",
       "      <td>10.22</td>\n",
       "    </tr>\n",
       "    <tr>\n",
       "      <th>3</th>\n",
       "      <td>Montepuez</td>\n",
       "      <td>MZ</td>\n",
       "      <td>-13.13</td>\n",
       "      <td>39.00</td>\n",
       "      <td>73</td>\n",
       "      <td>98</td>\n",
       "      <td>67.86</td>\n",
       "      <td>2.80</td>\n",
       "    </tr>\n",
       "    <tr>\n",
       "      <th>4</th>\n",
       "      <td>Avarua</td>\n",
       "      <td>CK</td>\n",
       "      <td>-21.21</td>\n",
       "      <td>-159.78</td>\n",
       "      <td>100</td>\n",
       "      <td>88</td>\n",
       "      <td>80.60</td>\n",
       "      <td>18.34</td>\n",
       "    </tr>\n",
       "  </tbody>\n",
       "</table>\n",
       "</div>"
      ],
      "text/plain": [
       "         City Country    Lat     Lng  Cloudiness  Humidity  Max Temp  \\\n",
       "0   Tuatapere      NZ -46.13  167.68          18        75     55.00   \n",
       "1    Belmonte      BR -15.86  -38.88          40        78     80.60   \n",
       "2  Kalakamati      BW -20.59   27.31          75        75     64.42   \n",
       "3   Montepuez      MZ -13.13   39.00          73        98     67.86   \n",
       "4      Avarua      CK -21.21 -159.78         100        88     80.60   \n",
       "\n",
       "   Wind Speed  \n",
       "0        4.00  \n",
       "1        9.17  \n",
       "2       10.22  \n",
       "3        2.80  \n",
       "4       18.34  "
      ]
     },
     "execution_count": 2,
     "metadata": {},
     "output_type": "execute_result"
    }
   ],
   "source": [
    "cities_df = pd.read_csv(\"../output_data/cities.csv\")\n",
    "cities_df.head()"
   ]
  },
  {
   "cell_type": "markdown",
   "metadata": {},
   "source": [
    "### Humidity Heatmap\n",
    "* Configure gmaps.\n",
    "* Use the Lat and Lng as locations and Humidity as the weight.\n",
    "* Add Heatmap layer to map."
   ]
  },
  {
   "cell_type": "code",
   "execution_count": 3,
   "metadata": {},
   "outputs": [
    {
     "data": {
      "application/vnd.jupyter.widget-view+json": {
       "model_id": "4595bb0936fa425aa8deba93aec3705f",
       "version_major": 2,
       "version_minor": 0
      },
      "text/plain": [
       "Figure(layout=FigureLayout(height='420px'))"
      ]
     },
     "metadata": {},
     "output_type": "display_data"
    }
   ],
   "source": [
    "gmaps.configure(api_key=g_key)\n",
    "\n",
    "coordinates = []\n",
    "for index, rows in cities_df.iterrows(): \n",
    "    coord_list = [rows[\"Lat\"], rows[\"Lng\"]] \n",
    "    coordinates.append(coord_list) \n",
    "\n",
    "fig = gmaps.figure()\n",
    "heatmap = gmaps.heatmap_layer(coordinates, weights = cities_df[\"Humidity\"])\n",
    "heatmap.max_intensity = 100\n",
    "fig.add_layer(heatmap)\n",
    "fig"
   ]
  },
  {
   "cell_type": "markdown",
   "metadata": {},
   "source": [
    "### Create new DataFrame fitting weather criteria\n",
    "* Narrow down the cities to fit weather conditions.\n",
    "* Drop any rows will null values."
   ]
  },
  {
   "cell_type": "code",
   "execution_count": 4,
   "metadata": {},
   "outputs": [
    {
     "data": {
      "text/html": [
       "<div>\n",
       "<style scoped>\n",
       "    .dataframe tbody tr th:only-of-type {\n",
       "        vertical-align: middle;\n",
       "    }\n",
       "\n",
       "    .dataframe tbody tr th {\n",
       "        vertical-align: top;\n",
       "    }\n",
       "\n",
       "    .dataframe thead th {\n",
       "        text-align: right;\n",
       "    }\n",
       "</style>\n",
       "<table border=\"1\" class=\"dataframe\">\n",
       "  <thead>\n",
       "    <tr style=\"text-align: right;\">\n",
       "      <th></th>\n",
       "      <th>City</th>\n",
       "      <th>Country</th>\n",
       "      <th>Lat</th>\n",
       "      <th>Lng</th>\n",
       "      <th>Cloudiness</th>\n",
       "      <th>Humidity</th>\n",
       "      <th>Max Temp</th>\n",
       "      <th>Wind Speed</th>\n",
       "    </tr>\n",
       "  </thead>\n",
       "  <tbody>\n",
       "    <tr>\n",
       "      <th>96</th>\n",
       "      <td>Mildura</td>\n",
       "      <td>AU</td>\n",
       "      <td>-34.20</td>\n",
       "      <td>142.15</td>\n",
       "      <td>0</td>\n",
       "      <td>43</td>\n",
       "      <td>79.00</td>\n",
       "      <td>8.05</td>\n",
       "    </tr>\n",
       "    <tr>\n",
       "      <th>319</th>\n",
       "      <td>Oussouye</td>\n",
       "      <td>SN</td>\n",
       "      <td>12.48</td>\n",
       "      <td>-16.55</td>\n",
       "      <td>0</td>\n",
       "      <td>83</td>\n",
       "      <td>75.20</td>\n",
       "      <td>9.17</td>\n",
       "    </tr>\n",
       "    <tr>\n",
       "      <th>430</th>\n",
       "      <td>Sawākin</td>\n",
       "      <td>SD</td>\n",
       "      <td>19.11</td>\n",
       "      <td>37.33</td>\n",
       "      <td>0</td>\n",
       "      <td>65</td>\n",
       "      <td>75.76</td>\n",
       "      <td>8.19</td>\n",
       "    </tr>\n",
       "    <tr>\n",
       "      <th>434</th>\n",
       "      <td>Cruzeiro do Sul</td>\n",
       "      <td>BR</td>\n",
       "      <td>-29.51</td>\n",
       "      <td>-51.99</td>\n",
       "      <td>0</td>\n",
       "      <td>78</td>\n",
       "      <td>77.00</td>\n",
       "      <td>1.99</td>\n",
       "    </tr>\n",
       "    <tr>\n",
       "      <th>439</th>\n",
       "      <td>San Patricio</td>\n",
       "      <td>MX</td>\n",
       "      <td>19.22</td>\n",
       "      <td>-104.70</td>\n",
       "      <td>0</td>\n",
       "      <td>75</td>\n",
       "      <td>77.79</td>\n",
       "      <td>7.87</td>\n",
       "    </tr>\n",
       "  </tbody>\n",
       "</table>\n",
       "</div>"
      ],
      "text/plain": [
       "                City Country    Lat     Lng  Cloudiness  Humidity  Max Temp  \\\n",
       "96           Mildura      AU -34.20  142.15           0        43     79.00   \n",
       "319         Oussouye      SN  12.48  -16.55           0        83     75.20   \n",
       "430          Sawākin      SD  19.11   37.33           0        65     75.76   \n",
       "434  Cruzeiro do Sul      BR -29.51  -51.99           0        78     77.00   \n",
       "439     San Patricio      MX  19.22 -104.70           0        75     77.79   \n",
       "\n",
       "     Wind Speed  \n",
       "96         8.05  \n",
       "319        9.17  \n",
       "430        8.19  \n",
       "434        1.99  \n",
       "439        7.87  "
      ]
     },
     "execution_count": 4,
     "metadata": {},
     "output_type": "execute_result"
    }
   ],
   "source": [
    "hotel_df = cities_df.loc[(cities_df['Max Temp'] > 75) & (cities_df['Max Temp'] < 80)\n",
    "                     & (cities_df['Wind Speed'] < 10) & (cities_df['Cloudiness'] == 0)]\n",
    "\n",
    "hotel_df"
   ]
  },
  {
   "cell_type": "markdown",
   "metadata": {},
   "source": [
    "### Hotel Map\n",
    "* Store into variable named `hotel_df`.\n",
    "* Add a \"Hotel Name\" column to the DataFrame.\n",
    "* Set parameters to search for hotels with 5000 meters.\n",
    "* Hit the Google Places API for each city's coordinates.\n",
    "* Store the first Hotel result into the DataFrame.\n",
    "* Plot markers on top of the heatmap."
   ]
  },
  {
   "cell_type": "code",
   "execution_count": 5,
   "metadata": {},
   "outputs": [
    {
     "name": "stderr",
     "output_type": "stream",
     "text": [
      "/Users/neilhsu/anaconda3/envs/PythonData/lib/python3.6/site-packages/pandas/core/indexing.py:844: SettingWithCopyWarning: \n",
      "A value is trying to be set on a copy of a slice from a DataFrame.\n",
      "Try using .loc[row_indexer,col_indexer] = value instead\n",
      "\n",
      "See the caveats in the documentation: https://pandas.pydata.org/pandas-docs/stable/user_guide/indexing.html#returning-a-view-versus-a-copy\n",
      "  self.obj[key] = _infer_fill_value(value)\n",
      "/Users/neilhsu/anaconda3/envs/PythonData/lib/python3.6/site-packages/pandas/core/indexing.py:965: SettingWithCopyWarning: \n",
      "A value is trying to be set on a copy of a slice from a DataFrame.\n",
      "Try using .loc[row_indexer,col_indexer] = value instead\n",
      "\n",
      "See the caveats in the documentation: https://pandas.pydata.org/pandas-docs/stable/user_guide/indexing.html#returning-a-view-versus-a-copy\n",
      "  self.obj[item] = s\n"
     ]
    },
    {
     "name": "stdout",
     "output_type": "stream",
     "text": [
      "Finding hotels in Mildura within 5000 meters. \n",
      "Closest hotel is Quality Hotel Mildura Grand.\n",
      "Finding hotels in Oussouye within 5000 meters. \n",
      "Closest hotel is Hôtel Katakalousse.\n",
      "Finding hotels in Sawākin within 5000 meters. \n",
      "Closest hotel is فندق دشه سواكن.\n",
      "Finding hotels in Cruzeiro do Sul within 5000 meters. \n",
      "Closest hotel is Zallon Hotel Executivo.\n",
      "Finding hotels in San Patricio within 5000 meters. \n",
      "Closest hotel is Grand Isla Navidad Resort.\n",
      "Search complete.\n"
     ]
    }
   ],
   "source": [
    "hotel_df.loc[:,\"Hotel Name\"] = ''\n",
    "\n",
    "base_url = \"https://maps.googleapis.com/maps/api/place/textsearch/json\"\n",
    "\n",
    "target_radius = 5000\n",
    "params = {\n",
    "    \"location\": \"\",  \n",
    "    \"type\": \"lodging\",\n",
    "    \"radius\" : target_radius,\n",
    "    \"query\": \"hotel\",\n",
    "    \"key\": g_key,\n",
    "}\n",
    "\n",
    "for index, row in hotel_df.iterrows():\n",
    "\n",
    "    params['location'] = f\"{row['Lat']},{row['Lng']}\"\n",
    "\n",
    "    print(f\"Finding hotels in {row['City']} within 5000 meters. \")\n",
    "    response = requests.get(base_url, params=params).json()\n",
    "    results = response['results']\n",
    "    \n",
    "    try:\n",
    "        print(f\"Closest hotel is {results[0]['name']}.\")\n",
    "        \n",
    "        hotel_df.loc[index, 'Hotel Name'] = results[0]['name']\n",
    "        \n",
    "    except (KeyError, IndexError):\n",
    "        print(\"No hotel withing 5000 meters. Skipping.\")\n",
    "print(\"Search complete.\")"
   ]
  },
  {
   "cell_type": "code",
   "execution_count": 6,
   "metadata": {},
   "outputs": [
    {
     "data": {
      "text/html": [
       "<div>\n",
       "<style scoped>\n",
       "    .dataframe tbody tr th:only-of-type {\n",
       "        vertical-align: middle;\n",
       "    }\n",
       "\n",
       "    .dataframe tbody tr th {\n",
       "        vertical-align: top;\n",
       "    }\n",
       "\n",
       "    .dataframe thead th {\n",
       "        text-align: right;\n",
       "    }\n",
       "</style>\n",
       "<table border=\"1\" class=\"dataframe\">\n",
       "  <thead>\n",
       "    <tr style=\"text-align: right;\">\n",
       "      <th></th>\n",
       "      <th>City</th>\n",
       "      <th>Country</th>\n",
       "      <th>Lat</th>\n",
       "      <th>Lng</th>\n",
       "      <th>Cloudiness</th>\n",
       "      <th>Humidity</th>\n",
       "      <th>Max Temp</th>\n",
       "      <th>Wind Speed</th>\n",
       "      <th>Hotel Name</th>\n",
       "    </tr>\n",
       "  </thead>\n",
       "  <tbody>\n",
       "    <tr>\n",
       "      <th>96</th>\n",
       "      <td>Mildura</td>\n",
       "      <td>AU</td>\n",
       "      <td>-34.20</td>\n",
       "      <td>142.15</td>\n",
       "      <td>0</td>\n",
       "      <td>43</td>\n",
       "      <td>79.00</td>\n",
       "      <td>8.05</td>\n",
       "      <td>Quality Hotel Mildura Grand</td>\n",
       "    </tr>\n",
       "    <tr>\n",
       "      <th>319</th>\n",
       "      <td>Oussouye</td>\n",
       "      <td>SN</td>\n",
       "      <td>12.48</td>\n",
       "      <td>-16.55</td>\n",
       "      <td>0</td>\n",
       "      <td>83</td>\n",
       "      <td>75.20</td>\n",
       "      <td>9.17</td>\n",
       "      <td>Hôtel Katakalousse</td>\n",
       "    </tr>\n",
       "    <tr>\n",
       "      <th>430</th>\n",
       "      <td>Sawākin</td>\n",
       "      <td>SD</td>\n",
       "      <td>19.11</td>\n",
       "      <td>37.33</td>\n",
       "      <td>0</td>\n",
       "      <td>65</td>\n",
       "      <td>75.76</td>\n",
       "      <td>8.19</td>\n",
       "      <td>فندق دشه سواكن</td>\n",
       "    </tr>\n",
       "    <tr>\n",
       "      <th>434</th>\n",
       "      <td>Cruzeiro do Sul</td>\n",
       "      <td>BR</td>\n",
       "      <td>-29.51</td>\n",
       "      <td>-51.99</td>\n",
       "      <td>0</td>\n",
       "      <td>78</td>\n",
       "      <td>77.00</td>\n",
       "      <td>1.99</td>\n",
       "      <td>Zallon Hotel Executivo</td>\n",
       "    </tr>\n",
       "    <tr>\n",
       "      <th>439</th>\n",
       "      <td>San Patricio</td>\n",
       "      <td>MX</td>\n",
       "      <td>19.22</td>\n",
       "      <td>-104.70</td>\n",
       "      <td>0</td>\n",
       "      <td>75</td>\n",
       "      <td>77.79</td>\n",
       "      <td>7.87</td>\n",
       "      <td>Grand Isla Navidad Resort</td>\n",
       "    </tr>\n",
       "  </tbody>\n",
       "</table>\n",
       "</div>"
      ],
      "text/plain": [
       "                City Country    Lat     Lng  Cloudiness  Humidity  Max Temp  \\\n",
       "96           Mildura      AU -34.20  142.15           0        43     79.00   \n",
       "319         Oussouye      SN  12.48  -16.55           0        83     75.20   \n",
       "430          Sawākin      SD  19.11   37.33           0        65     75.76   \n",
       "434  Cruzeiro do Sul      BR -29.51  -51.99           0        78     77.00   \n",
       "439     San Patricio      MX  19.22 -104.70           0        75     77.79   \n",
       "\n",
       "     Wind Speed                   Hotel Name  \n",
       "96         8.05  Quality Hotel Mildura Grand  \n",
       "319        9.17           Hôtel Katakalousse  \n",
       "430        8.19               فندق دشه سواكن  \n",
       "434        1.99       Zallon Hotel Executivo  \n",
       "439        7.87    Grand Isla Navidad Resort  "
      ]
     },
     "execution_count": 6,
     "metadata": {},
     "output_type": "execute_result"
    }
   ],
   "source": [
    "hotel_df.head()"
   ]
  },
  {
   "cell_type": "code",
   "execution_count": 7,
   "metadata": {},
   "outputs": [],
   "source": [
    "# NOTE: Do not change any of the code in this cell\n",
    "\n",
    "# Using the template add the hotel marks to the heatmap\n",
    "info_box_template = \"\"\"\n",
    "<dl>\n",
    "<dt>Name</dt><dd>{Hotel Name}</dd>\n",
    "<dt>City</dt><dd>{City}</dd>\n",
    "<dt>Country</dt><dd>{Country}</dd>\n",
    "</dl>\n",
    "\"\"\"\n",
    "# Store the DataFrame Row\n",
    "# NOTE: be sure to update with your DataFrame name\n",
    "hotel_info = [info_box_template.format(**row) for index, row in hotel_df.iterrows()]\n",
    "locations = hotel_df[[\"Lat\", \"Lng\"]]"
   ]
  },
  {
   "cell_type": "code",
   "execution_count": 8,
   "metadata": {
    "scrolled": true
   },
   "outputs": [
    {
     "data": {
      "application/vnd.jupyter.widget-view+json": {
       "model_id": "4595bb0936fa425aa8deba93aec3705f",
       "version_major": 2,
       "version_minor": 0
      },
      "text/plain": [
       "Figure(layout=FigureLayout(height='420px'))"
      ]
     },
     "metadata": {},
     "output_type": "display_data"
    }
   ],
   "source": [
    "# Add marker layer ontop of heat map\n",
    "marker_layer = gmaps.marker_layer(locations, info_box_content=hotel_info)\n",
    "fig.add_layer(marker_layer)\n",
    "\n",
    "# Display Map\n",
    "fig"
   ]
  },
  {
   "cell_type": "code",
   "execution_count": null,
   "metadata": {},
   "outputs": [],
   "source": []
  }
 ],
 "metadata": {
  "kernelspec": {
   "display_name": "Python 3",
   "language": "python",
   "name": "python3"
  },
  "language_info": {
   "codemirror_mode": {
    "name": "ipython",
    "version": 3
   },
   "file_extension": ".py",
   "mimetype": "text/x-python",
   "name": "python",
   "nbconvert_exporter": "python",
   "pygments_lexer": "ipython3",
   "version": "3.6.10"
  },
  "latex_envs": {
   "LaTeX_envs_menu_present": true,
   "autoclose": false,
   "autocomplete": true,
   "bibliofile": "biblio.bib",
   "cite_by": "apalike",
   "current_citInitial": 1,
   "eqLabelWithNumbers": true,
   "eqNumInitial": 1,
   "hotkeys": {
    "equation": "Ctrl-E",
    "itemize": "Ctrl-I"
   },
   "labels_anchors": false,
   "latex_user_defs": false,
   "report_style_numbering": false,
   "user_envs_cfg": false
  }
 },
 "nbformat": 4,
 "nbformat_minor": 2
}
